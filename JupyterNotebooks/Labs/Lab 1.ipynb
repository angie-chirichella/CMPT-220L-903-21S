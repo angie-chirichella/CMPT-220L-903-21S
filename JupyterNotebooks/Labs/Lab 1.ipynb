{
 "cells": [
  {
   "cell_type": "markdown",
   "metadata": {},
   "source": [
    "# Lab One\n",
    "---\n",
    "\n",
    "Ok for this lab we're going to reiterate a lot of the things that we went over in class.\n",
    "\n",
    "Our Goals are:\n",
    "- Binary Math\n",
    "- Defining Variables\n",
    "    - Primitive Types\n",
    "    - Reference Types\n",
    "- Using Math\n",
    "- Manipulating Variables"
   ]
  },
  {
   "cell_type": "markdown",
   "metadata": {},
   "source": [
    "For this section I just want you to type the answer. I know that you can just look this up but try and do the math. \n",
    "### What is 1000 in Binary\n",
    "8\n",
    "\n",
    "### What is 1000 1001 in Binary (This is a byte. It's just split for readability)\n",
    "137\n",
    "\n",
    "### What is 1010 1111 in Binary (This is a byte. It's just split for readability)\n",
    "175\n",
    "\n",
    "### What is 0101 1010 in Binary (This is a byte. It's just split for readability)\n",
    "90"
   ]
  },
  {
   "cell_type": "code",
   "execution_count": 3,
   "metadata": {},
   "outputs": [
    {
     "name": "stdout",
     "output_type": "stream",
     "text": [
      "true\n",
      "120\n",
      "124\n",
      "255\n",
      "7\n",
      "12.34\n",
      "1.2\n",
      "h\n"
     ]
    }
   ],
   "source": [
    "// Define 8 variables, one of each type listed: [boolean, byte, short, int, long, float, double, char]. Print all 8 of them.\n",
    "\n",
    "boolean a = true;\n",
    "byte b = 120; \n",
    "short c = 124;\n",
    "int num = 255;\n",
    "long k = 213457;\n",
    "float f = 12.34f;\n",
    "double d = 134.29087;\n",
    "char h = 'h';\n",
    " \n",
    "System.out.println(a);\n",
    "System.out.println(b);\n",
    "System.out.println(c);\n",
    "System.out.println(num);\n",
    "System.out.println(k);\n",
    "System.out.println(f);\n",
    "System.out.println(d);\n",
    "System.out.println(h);"
   ]
  },
  {
   "cell_type": "code",
   "execution_count": 9,
   "metadata": {},
   "outputs": [],
   "source": [
    "// Make me a list of any type\n",
    "int[] list = {2,4,6,8,20};\n",
    "\n"
   ]
  },
  {
   "cell_type": "code",
   "execution_count": 2,
   "metadata": {},
   "outputs": [
    {
     "name": "stdout",
     "output_type": "stream",
     "text": [
      "13.4\n",
      "20\n",
      "2\n",
      "68\n",
      "0\n"
     ]
    }
   ],
   "source": [
    "// With whatever variables you'd like demonstrate the following: [Addition, Subtraction, Division, Multiplication, Modulo]. Print all 5.\n",
    "\n",
    "float add_num1 = 12.20f;\n",
    "float add_num2 = 1.20f;\n",
    "System.out.println(add_num1 + add_num2);\n",
    " \n",
    "int subtract_n1 = 34;\n",
    "int subtract_n2 = 14;\n",
    "System.out.println(subtract_n1 - subtract_n2);\n",
    " \n",
    "int div_1 = 4;\n",
    "int div_2 = 2;\n",
    "System.out.println(div_1 / div_2);\n",
    " \n",
    "int mult_1 = 34;\n",
    "int mult_2 = 2;\n",
    "System.out.println(mult_1 * mult_2);\n",
    " \n",
    "int mod_1 = 10;\n",
    "int mod_2 = 2;\n",
    "System.out.println(mod_1 % mod_2);"
   ]
  },
  {
   "cell_type": "code",
   "execution_count": 3,
   "metadata": {},
   "outputs": [
    {
     "name": "stdout",
     "output_type": "stream",
     "text": [
      "57\n"
     ]
    }
   ],
   "source": [
    "// Using 2 variables and addition print the number 57\n",
    "\n",
    "int num1 = 49;\n",
    "int num2 = 8;\n",
    "System.out.println(num1 + num2);\n"
   ]
  },
  {
   "cell_type": "code",
   "execution_count": 12,
   "metadata": {},
   "outputs": [
    {
     "name": "stdout",
     "output_type": "stream",
     "text": [
      "software development\n"
     ]
    }
   ],
   "source": [
    "// Define a variable and print it out. Then alter the same variable and print it out. This can be through string concatenation or addition, etc.\n",
    "\n",
    "String string1 = \"software\";\n",
    "String string2 = \" development\";\n",
    "System.out.println(string1 + string2);\n"
   ]
  }
 ],
 "metadata": {
  "kernelspec": {
   "display_name": "Java",
   "language": "java",
   "name": "java"
  },
  "language_info": {
   "codemirror_mode": "java",
   "file_extension": ".jshell",
   "mimetype": "text/x-java-source",
   "name": "Java",
   "pygments_lexer": "java",
   "version": "15.0.2+7-27"
  },
  "orig_nbformat": 2
 },
 "nbformat": 4,
 "nbformat_minor": 2
}