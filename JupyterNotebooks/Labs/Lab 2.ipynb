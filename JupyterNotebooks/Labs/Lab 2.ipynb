{
 "cells": [
  {
   "cell_type": "markdown",
   "metadata": {},
   "source": [
    "# Lab Two\n",
    "---\n",
    "\n",
    "Ok for this lab we're going to reiterate a lot of the things that we went over in class.\n",
    "\n",
    "Our Goals are:\n",
    "- Conditionals\n",
    "    - If\n",
    "    - Else\n",
    "    - Else If"
   ]
  },
  {
   "cell_type": "code",
   "execution_count": 2,
   "metadata": {},
   "outputs": [
    {
     "name": "stdout",
     "output_type": "stream",
     "text": [
      "Angelina\n"
     ]
    }
   ],
   "source": [
    "// Make an if statement\n",
    "\n",
    "if (true) {\n",
    "    System.out.println(\"Angelina\");\n",
    "}"
   ]
  },
  {
   "cell_type": "code",
   "execution_count": 4,
   "metadata": {},
   "outputs": [
    {
     "name": "stdout",
     "output_type": "stream",
     "text": [
      "Chirichella\n"
     ]
    }
   ],
   "source": [
    "// Make an if, else statement where the else statement triggers\n",
    "\n",
    "if (!true) {\n",
    "    System.out.println(\"Angelina\");\n",
    "} else{\n",
    "    System.out.println(\"Chirichella\");\n",
    "}"
   ]
  },
  {
   "cell_type": "code",
   "execution_count": 5,
   "metadata": {},
   "outputs": [
    {
     "name": "stdout",
     "output_type": "stream",
     "text": [
      "Chirichella\n"
     ]
    }
   ],
   "source": [
    "// Make an if, else if, else statement where the else if statement triggers\n",
    "\n",
    "if (!true) {\n",
    "    System.out.println(\"Angelina\");\n",
    "} else if(true){\n",
    "    System.out.println(\"Chirichella\");\n",
    "} else{\n",
    "    System.out.println(\"My name is Angelina Chirichella\");\n",
    "}"
   ]
  },
  {
   "cell_type": "code",
   "execution_count": 18,
   "metadata": {},
   "outputs": [
    {
     "name": "stdout",
     "output_type": "stream",
     "text": [
      "The numbers are not equal.\n"
     ]
    }
   ],
   "source": [
    "// Make 2 variables and use them in an if else conditional\n",
    "\n",
    "int num1 = 2;\n",
    "int num2 = 4;\n",
    "\n",
    "if (num1 == num2){\n",
    "    System.out.println(\"The numbers are equal!\");\n",
    "} else {\n",
    "    System.out.println(\"The numbers are not equal.\");\n",
    "}\n"
   ]
  },
  {
   "cell_type": "code",
   "execution_count": 20,
   "metadata": {},
   "outputs": [
    {
     "name": "stdout",
     "output_type": "stream",
     "text": [
      "I have class today.\n"
     ]
    }
   ],
   "source": [
    "// Make an if statement using 2 variables and an AND(&&) statement\n",
    "\n",
    "boolean monday = true;\n",
    "boolean thursday = false;\n",
    "\n",
    "if (monday && !thursday){\n",
    "    System.out.println(\"I have class today.\");\n",
    "} else {\n",
    "    System.out.println(\"I do not have class today\");\n",
    "}"
   ]
  },
  {
   "cell_type": "code",
   "execution_count": 26,
   "metadata": {},
   "outputs": [
    {
     "name": "stdout",
     "output_type": "stream",
     "text": [
      "If statement with an or operator.\n"
     ]
    }
   ],
   "source": [
    "// Make an if statement using 2 variables and an OR(||) statement\n",
    "\n",
    "int a = 20;\n",
    "int b = 40;\n",
    "\n",
    "if (a > b || b == 40) {\n",
    "    System.out.println(\"If statement with an or operator.\");\n",
    "} else {\n",
    "    System.out.println(\"Else statement.\");\n",
    "}"
   ]
  }
 ],
 "metadata": {
  "kernelspec": {
   "display_name": "Java",
   "language": "java",
   "name": "java"
  },
  "language_info": {
   "codemirror_mode": "java",
   "file_extension": ".jshell",
   "mimetype": "text/x-java-source",
   "name": "Java",
   "pygments_lexer": "java",
   "version": "15.0.2+7-27"
  },
  "orig_nbformat": 2
 },
 "nbformat": 4,
 "nbformat_minor": 2
}