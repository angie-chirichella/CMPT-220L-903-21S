{
 "cells": [
  {
   "cell_type": "code",
   "execution_count": null,
   "metadata": {},
   "outputs": [],
   "source": [
    "# Lab Three\n",
    "---\n",
    "\n",
    "For this lab we're going to be making and using a bunch of functions. \n",
    "\n",
    "Our Goals are:\n",
    "- Switch Case\n",
    "- Looping\n",
    "- Making our own functions\n",
    "- Combining functions\n",
    "- Structuring solutions"
   ]
  },
  {
   "cell_type": "code",
   "execution_count": 10,
   "metadata": {},
   "outputs": [
    {
     "name": "stdout",
     "output_type": "stream",
     "text": [
      "I don't like to drink coffee.\n"
     ]
    }
   ],
   "source": [
    "// Give me an example of you using switch case.\n",
    "\n",
    "String starter = \"Iced-Tea\";\n",
    "\n",
    "switch (starter) {\n",
    "    case \"Coffee\":\n",
    "        System.out.println(\"I drink every kind of coffee.\");\n",
    "    case \"Starbucks\":\n",
    "        System.out.println(\"I only drink coffee from Starbucks\");\n",
    "    case \"Dunkin\":\n",
    "        System.out.println(\"I only drink coffee from Dunkin Donuts.\");\n",
    "    default:\n",
    "        System.out.println(\"I don't like to drink coffee.\");\n",
    "\n",
    "}\n"
   ]
  },
  {
   "cell_type": "code",
   "execution_count": 2,
   "metadata": {},
   "outputs": [
    {
     "name": "stdout",
     "output_type": "stream",
     "text": [
      "Value of X is: 1\n",
      "Value of X is: 2\n",
      "Value of X is: 3\n",
      "Value of X is: 4\n",
      "Value of X is: 5\n",
      "Value of X is: 6\n"
     ]
    }
   ],
   "source": [
    "// Give me an example of you using a for loop\n",
    "\n",
    "for(int x = 1; x<= 6; x++) {\n",
    "    System.out.println(\"Value of X is: \" + x);\n",
    "}"
   ]
  },
  {
   "cell_type": "code",
   "execution_count": 19,
   "metadata": {},
   "outputs": [
    {
     "name": "stdout",
     "output_type": "stream",
     "text": [
      "2\n",
      "4\n",
      "6\n",
      "20\n",
      "40\n",
      "60\n"
     ]
    }
   ],
   "source": [
    "// Give me an example of you using a for each loop\n",
    "\n",
    "int[] numbers = {2, 4, 6, 20, 40, 60};\n",
    "\n",
    "for (int even: numbers) {\n",
    "    System.out.println(even);\n",
    "}"
   ]
  },
  {
   "cell_type": "code",
   "execution_count": 6,
   "metadata": {},
   "outputs": [
    {
     "name": "stdout",
     "output_type": "stream",
     "text": [
      "Summation: 55\n"
     ]
    }
   ],
   "source": [
    "// Give me an example of you using a while loop\n",
    "\n",
    "int x = 1;\n",
    "int sum = 0;\n",
    "while(x <= 10) {\n",
    "    sum = sum + x;\n",
    "    x++;\n",
    "}\n",
    "System.out.println(\"Summation: \" + sum);"
   ]
  },
  {
   "cell_type": "code",
   "execution_count": 23,
   "metadata": {},
   "outputs": [
    {
     "name": "stdout",
     "output_type": "stream",
     "text": [
      "8.0\n"
     ]
    }
   ],
   "source": [
    "// I want you to write a function that will take in a number and raise it to the power given. \n",
    "\n",
    "// For example if given the numbers 2 and 3. The math that the function should do is 2^3 and should print out or return 8. Print the output.\n",
    "\n",
    "double exponent(int num1, int num2){\n",
    "    return Math.pow(num1,num2);\n",
    "}\n",
    "System.out.println(exponent(2, 3));\n"
   ]
  },
  {
   "cell_type": "code",
   "execution_count": 8,
   "metadata": {},
   "outputs": [
    {
     "name": "stdout",
     "output_type": "stream",
     "text": [
      "3\n"
     ]
    }
   ],
   "source": [
    "// I want you to write a function that will take in a list and see how many times a given number is in the list. \n",
    "\n",
    "// For example if the array given is [2,3,5,2,3,6,7,8,2] and the number given is 2 the function should print out or return 3. Print the output.\n",
    "\n",
    "int counter(int num, int givenarray[]){\n",
    "    int amount = 0;\n",
    "    int length = givenarray.length;\n",
    "    for (int i = 0; i < length;\n",
    "    i++)\n",
    "        if(num == givenarray[i])\n",
    "        amount++;\n",
    "    return amount;\n",
    "\n",
    "}\n",
    "int array1[]= {2,3,5,2,3,6,7,8,2};\n",
    "int num1 = 2;\n",
    "System.out.println(count(num1, array1));"
   ]
  },
  {
   "cell_type": "code",
   "execution_count": 31,
   "metadata": {},
   "outputs": [
    {
     "name": "stdout",
     "output_type": "stream",
     "text": [
      "C is 5.0 C squared is 25.0\n"
     ]
    }
   ],
   "source": [
    "// Give me a function that gives the answer to the pythagorean theorem. \n",
    "// I'd like you to reuse the exponent function from above as well as the functions below to make your function.\n",
    "\n",
    "// If you don't remember the pythagorean theorem the formula is (a^2 + b^2 = c^2). Given a and b as parameters i'd like you to return c. \n",
    "// If this doesn't make sense look up `Pythagorean Theorem Formula` on google.\n",
    "\n",
    "int addition(int a, int b) {\n",
    "    int answer = a + b;\n",
    "    return answer;\n",
    "}\n",
    "\n",
    "int division(int a, int b) {\n",
    "    int answer = a / b;\n",
    "    return answer;\n",
    "}\n",
    "\n",
    "void pythagogrean_theorem(int a, int b){\n",
    "    double a_squared = power(a, 2);\n",
    "    double b_squared = power(b, 2);\n",
    "    double c_squared = a_squared+b_squared;\n",
    "    double c = Math.sqrt(c_squared);\n",
    "\n",
    "    System.out.println(\"C is \"+c+\" C squared is \"+c_squared);\n",
    "}\n",
    "\n",
    "pythagogrean_theorem(3, 4);\n"
   ]
  }
 ],
 "metadata": {
  "kernelspec": {
   "display_name": "Java",
   "language": "java",
   "name": "java"
  },
  "language_info": {
   "codemirror_mode": "java",
   "file_extension": ".jshell",
   "mimetype": "text/x-java-source",
   "name": "Java",
   "pygments_lexer": "java",
   "version": "15.0.2+7-27"
  },
  "orig_nbformat": 2
 },
 "nbformat": 4,
 "nbformat_minor": 2
}